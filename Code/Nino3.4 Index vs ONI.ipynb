{
 "cells": [
  {
   "cell_type": "markdown",
   "metadata": {},
   "source": [
    "NOAA (1) defines an el nino as when \"monthly sea surface temperatures in the central and eastern tropical Pacific Ocean (Nino 3.4 region) need to warm +0.5° Celsius above normal, with the expectation that the warming will persist for five consecutive overlapping three month periods.\" By contrast, UCAR (2) defines an el nino to be when \"the  Niño 3.4 SSTs exceed +/- 0.4C for a period of six months or more.\"\n",
    "\n",
    "1. https://www.noaa.gov/understanding-el-nino\n",
    "2. https://climatedataguide.ucar.edu/climate-data/nino-sst-indices-nino-12-3-34-4-oni-and-tni\n",
    "\n",
    "NOAA's index is called the Nino 3.4 index. UCAR's index is called the ONI. The Nino 3.4 is the 3 month running average monthly SST anomalies, and the ONI is the 5 month running average monthly SST anomalies. In this way, the ONI seems more conservative about declaring whether an El Nino has occured or not."
   ]
  },
  {
   "cell_type": "code",
   "execution_count": 158,
   "metadata": {},
   "outputs": [],
   "source": [
    "import numpy as np\n",
    "import matplotlib.pyplot as plt\n",
    "import matplotlib as mpl\n",
    "from copy import copy\n",
    "from datetime import date"
   ]
  },
  {
   "cell_type": "code",
   "execution_count": 57,
   "metadata": {
    "code_folding": []
   },
   "outputs": [],
   "source": [
    "def X_step_avg(data, X):\n",
    "    '''\n",
    "    Takes in time series `data` and returns the X-step running average, stopping once there are no more X-step blocks of data remaining.\n",
    "    In an input array of length N, there are N-X+1 blocks of size X, so the output list has length N-X+1.\n",
    "\n",
    "    Inputs\n",
    "    ----------\n",
    "    data: array-like\n",
    "        Time-series data\n",
    "    X: int\n",
    "\n",
    "    Returns\n",
    "    ---------\n",
    "    data_avg: array-like\n",
    "        X-step running average of `data`\n",
    "    '''\n",
    "    N = len(data)\n",
    "    assert(X <= N), \"X must be less than the length of `data`\"\n",
    "\n",
    "    # copy() so as to avoid overwriting `data` (idk why it does it)\n",
    "    data_avg = copy(data[:N-X+1])\n",
    "    for i in range(N-X+1):\n",
    "        data_avg[i] = (sum(data[i:i+X])/X)\n",
    "    return data_avg"
   ]
  },
  {
   "cell_type": "code",
   "execution_count": 313,
   "metadata": {},
   "outputs": [],
   "source": [
    "def block(bool_array, block_size):\n",
    "    '''\n",
    "    Takes in a 1d boolean array and returns a boolean array of the same size whose i-th entry is true if the i-th entry of the input array is true and occurs\n",
    "    in a block of more than block_size other trues.\n",
    "    \n",
    "    Inputs:\n",
    "    -----------\n",
    "    bool_array: list-like, indexable\n",
    "    block_size: int\n",
    "    \n",
    "    Returns:\n",
    "    -----------\n",
    "    blocked_array: list-like\n",
    "    \n",
    "    Examples:\n",
    "    -----------\n",
    "    >>> block([True, False, True, True, True, False, False, True], 2)\n",
    "    [False, False, True, True, True, False, False, False]\n",
    "    '''\n",
    "    # append false to make sure while loop runs one more time at the end\n",
    "    bool_array = list(bool_array)\n",
    "    bool_array.append(False) \n",
    "    N = len(bool_array)\n",
    "    i, j = 0, 0\n",
    "    while i < N:\n",
    "        # if at the end of a block or in between blocks, increment i and reset j\n",
    "        if (bool_array[i] == False) and (j==0 or j>=block_size):\n",
    "            i += 1\n",
    "            j = 0\n",
    "        # if at the end of a block, and the previous were true but less than block size, set all to false and increment i\n",
    "        elif (bool_array[i] == False) and (0<j<block_size):\n",
    "            for k in range(1,j+1):\n",
    "                bool_array[i-k] = False\n",
    "            i+=1\n",
    "            j=0\n",
    "        # if the current is true and not the last element, increment i and j\n",
    "        else:\n",
    "            i+= 1\n",
    "            j+= 1\n",
    "    \n",
    "    bool_array.pop() # remove the last false\n",
    "    return bool_array"
   ]
  },
  {
   "cell_type": "code",
   "execution_count": 110,
   "metadata": {},
   "outputs": [],
   "source": [
    "years, months, nino34 = np.loadtxt('../Data/detrend.nino34.ascii.txt', dtype={'names': (\n",
    "    'year', 'months', 'nino34'), 'formats': ('int', 'int', 'float')}, skiprows=1, usecols=(0, 1, 4), unpack=True)"
   ]
  },
  {
   "cell_type": "code",
   "execution_count": 114,
   "metadata": {},
   "outputs": [],
   "source": [
    "dates = []\n",
    "for (y,m) in zip(years, months):\n",
    "    dates.append(date(y,m,1))"
   ]
  },
  {
   "cell_type": "markdown",
   "metadata": {},
   "source": [
    "# ONI"
   ]
  },
  {
   "cell_type": "code",
   "execution_count": 103,
   "metadata": {},
   "outputs": [],
   "source": [
    "# calculate ONI from Nino3.4 and round to 2 decimal places\n",
    "oni_calculated = np.round(X_step_avg(nino34, 3), 2)\n",
    "oni_noaa = np.loadtxt('../Data/oni.ascii.txt', skiprows=2, usecols=(3))"
   ]
  },
  {
   "cell_type": "markdown",
   "metadata": {},
   "source": [
    "Is my ONI the same as NOAA's?"
   ]
  },
  {
   "cell_type": "code",
   "execution_count": 104,
   "metadata": {
    "scrolled": true
   },
   "outputs": [
    {
     "data": {
      "text/plain": [
       "0"
      ]
     },
     "execution_count": 104,
     "metadata": {},
     "output_type": "execute_result"
    }
   ],
   "source": [
    "np.sum(1-np.isclose(oni_calculated, oni_noaa, rtol=0, atol=.05))"
   ]
  },
  {
   "cell_type": "markdown",
   "metadata": {},
   "source": [
    "Yes. That means X_step_avg is working correctly, and that I understand the def of ONI. Now loet's figure out which dates are el nino."
   ]
  },
  {
   "cell_type": "code",
   "execution_count": 353,
   "metadata": {},
   "outputs": [],
   "source": [
    "dates_trimmed = np.array(dates[:len(oni_calculated)])\n",
    "oni_where_is_nino = block(oni_calculated > .5, 5)\n",
    "oni_nino = dates_trimmed[oni_where_is_nino]"
   ]
  },
  {
   "cell_type": "markdown",
   "metadata": {},
   "source": [
    "# Nino 3.4 Index (UCAR)"
   ]
  },
  {
   "cell_type": "code",
   "execution_count": 105,
   "metadata": {},
   "outputs": [],
   "source": [
    "nino34idx = np.round(X_step_avg(nino34, 5), 2)"
   ]
  },
  {
   "cell_type": "code",
   "execution_count": 354,
   "metadata": {},
   "outputs": [],
   "source": [
    "dates_trimmed = np.array(dates[:len(nino34idx)])\n",
    "nino34idx_where_is_nino = block(nino34idx > .5, 6)\n",
    "nino34idx_nino = dates_trimmed[nino34idx_where_is_nino ]"
   ]
  },
  {
   "cell_type": "markdown",
   "metadata": {},
   "source": [
    "# Comparison"
   ]
  },
  {
   "cell_type": "code",
   "execution_count": 368,
   "metadata": {},
   "outputs": [
    {
     "data": {
      "text/plain": [
       "Text(0.5, 1.0, 'Oceanic Nino Index (NOAA)')"
      ]
     },
     "execution_count": 368,
     "metadata": {},
     "output_type": "execute_result"
    },
    {
     "data": {
      "image/png": "[encoded data removed]",
      "text/plain": [
       "<Figure size 720x288 with 2 Axes>"
      ]
     },
     "metadata": {},
     "output_type": "display_data"
    }
   ],
   "source": [
    "fig, AX = plt.subplots(nrows=2, ncols=1, sharex=True, sharey=True, facecolor='white')\n",
    "fig.set_figwidth(10)\n",
    "\n",
    "minlen = min(len(nino34idx), len(oni_calculated))\n",
    "\n",
    "# plot indices\n",
    "AX[0].plot(dates[:minlen], nino34idx[:minlen], '-', color='black', alpha=1,label='nino3.4')\n",
    "AX[1].plot(dates[:minlen], oni_calculated[:minlen],'-', color='black', alpha=1,label='ONI')\n",
    "AX[0].axhline(color='black')\n",
    "AX[1].axhline(color='black')\n",
    "\n",
    "# plot ninos\n",
    "AX[0].fill_between(dates[:minlen], .5, nino34idx[:minlen], where=(nino34idx_where_is_nino[:minlen]) ,color='black', alpha=1)\n",
    "AX[1].fill_between(dates[:minlen], .5, oni_calculated[:minlen], where=(oni_where_is_nino[:minlen]) ,color='black', alpha=1)\n",
    "\n",
    "# beautify\n",
    "AX[0].set_title('Nino3.4 Index (UCAR)')\n",
    "AX[1].set_title('Oceanic Nino Index (NOAA)')"
   ]
  },
  {
   "cell_type": "markdown",
   "metadata": {},
   "source": [
    "As we see, the ONI and Nino3.4 index are very similar, except that the ONI is more variable than the nino3.4 since it is averaged over only 3 months compared to nino3.4's 5 months."
   ]
  },
  {
   "cell_type": "markdown",
   "metadata": {},
   "source": [
    "# Create list of dates for el nino/la nina in text file"
   ]
  },
  {
   "cell_type": "code",
   "execution_count": null,
   "metadata": {},
   "outputs": [],
   "source": []
  }
 ],
 "metadata": {
  "kernelspec": {
   "display_name": "Python 3",
   "language": "python",
   "name": "python3"
  },
  "language_info": {
   "codemirror_mode": {
    "name": "ipython",
    "version": 3
   },
   "file_extension": ".py",
   "mimetype": "text/x-python",
   "name": "python",
   "nbconvert_exporter": "python",
   "pygments_lexer": "ipython3",
   "version": "3.7.4"
  },
  "toc": {
   "base_numbering": 1,
   "nav_menu": {},
   "number_sections": true,
   "sideBar": true,
   "skip_h1_title": false,
   "title_cell": "Table of Contents",
   "title_sidebar": "Contents",
   "toc_cell": false,
   "toc_position": {},
   "toc_section_display": true,
   "toc_window_display": false
  },
  "varInspector": {
   "cols": {
    "lenName": 16,
    "lenType": 16,
    "lenVar": 40
   },
   "kernels_config": {
    "python": {
     "delete_cmd_postfix": "",
     "delete_cmd_prefix": "del ",
     "library": "var_list.py",
     "varRefreshCmd": "print(var_dic_list())"
    },
    "r": {
     "delete_cmd_postfix": ") ",
     "delete_cmd_prefix": "rm(",
     "library": "var_list.r",
     "varRefreshCmd": "cat(var_dic_list()) "
    }
   },
   "types_to_exclude": [
    "module",
    "function",
    "builtin_function_or_method",
    "instance",
    "_Feature"
   ],
   "window_display": false
  }
 },
 "nbformat": 4,
 "nbformat_minor": 2
}
